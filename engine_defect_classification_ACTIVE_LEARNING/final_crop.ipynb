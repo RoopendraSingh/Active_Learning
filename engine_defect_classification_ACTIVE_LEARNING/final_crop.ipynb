{
 "cells": [
  {
   "cell_type": "markdown",
   "metadata": {},
   "source": [
    "## Import libraries"
   ]
  },
  {
   "cell_type": "code",
   "execution_count": 1,
   "metadata": {},
   "outputs": [],
   "source": [
    "import cv2\n",
    "import glob\n",
    "import os\n",
    "import xml.etree.cElementTree as et\n",
    "import pandas as pd\n",
    "from imutils import paths\n",
    "import random\n",
    "import shutil\n",
    "from tqdm import tqdm\n",
    "import random"
   ]
  },
  {
   "cell_type": "markdown",
   "metadata": {},
   "source": [
    "## Location of images & corresponding xml files"
   ]
  },
  {
   "cell_type": "code",
   "execution_count": 17,
   "metadata": {},
   "outputs": [],
   "source": [
    "## Input folders\n",
    "defective_path = \"gs://trenton-trenton-rff-images/Sample_Data/defective\"\n",
    "non_defective_path = \"gs://trenton-trenton-rff-images/Sample_Data/nondefective\"\n",
    "\n",
    "## Output folders\n",
    "final_output_lower_data = \"gs://trenton-trenton-rff-images/Sample_Data/Lower\"\n",
    "final_output_upper_data = \"gs://trenton-trenton-rff-images/Sample_Data/Upper\""
   ]
  },
  {
   "cell_type": "code",
   "execution_count": 28,
   "metadata": {},
   "outputs": [],
   "source": [
    "# folder_path = \"gs://trenton-trenton-rff-images/Sample_Data/defective/img/\"\n",
    "# images = [os.path.join(folder_path, f) for f in os.listdir(folder_path) if os.path.isfile(os.path.join(folder_path, f))]"
   ]
  },
  {
   "cell_type": "code",
   "execution_count": 24,
   "metadata": {},
   "outputs": [
    {
     "data": {
      "text/plain": [
       "[]"
      ]
     },
     "execution_count": 24,
     "metadata": {},
     "output_type": "execute_result"
    }
   ],
   "source": [
    "images"
   ]
  },
  {
   "cell_type": "markdown",
   "metadata": {},
   "source": [
    "## Functions to crop images using XML files"
   ]
  },
  {
   "cell_type": "code",
   "execution_count": 18,
   "metadata": {},
   "outputs": [],
   "source": [
    "def getvalueofnode(node):\n",
    "    \"\"\" return node text or None \"\"\"\n",
    "    return node.text if node is not None else None\n",
    "\n",
    "def Make_Class_Dir(target_folder):\n",
    "    classes = [\"Class_1_Left\",\"Class_1_Right\",\"Class_2_Left\",\"Class_2_Right\",\"Class_null\",\"Defective\"]\n",
    "    for c in classes:\n",
    "        dir_path = os.path.join(target_folder,c)\n",
    "        if(os.path.isdir(dir_path)==True):\n",
    "            continue\n",
    "        else:\n",
    "            os.makedirs(dir_path)\n",
    "            \n",
    "def XML_crop(xml_folder,img_folder,target_folder):\n",
    "    Make_Class_Dir(target_folder)\n",
    "    xml_files = xml_folder + \"*\"\n",
    "    img_files = img_folder + \"*\"\n",
    "    newName=\"\"\n",
    "    countImages=0\n",
    "    COUNT = 0\n",
    "    for iname in tqdm(glob.glob(img_files)):\n",
    "        for fname in glob.glob(xml_files):\n",
    "            if(iname.split('/')[-1].split('.')[0]==fname.split('/')[-1].split('.')[0]):\n",
    "                try:\n",
    "                    parsed_xml = et.parse(fname)\n",
    "                    newName=\"\"\n",
    "                    countImages=countImages+1\n",
    "                    name = iname.split('/')[-1]\n",
    "                    im = cv2.imread(iname)\n",
    "                    height, width, channels = im.shape\n",
    "                    input_image_size = height\n",
    "                    \n",
    "                    root = parsed_xml.getroot()\n",
    "                    objects = root.findall('object')\n",
    "                    for obj in objects:\n",
    "                        cn = obj.find('name')\n",
    "                        class_name = getvalueofnode(cn)\n",
    "                        bb = obj.find('bndbox')\n",
    "                        if bb is not None:\n",
    "                            xminn=bb.find('xmin')\n",
    "                            vminx=getvalueofnode(xminn)\n",
    "                            xmaxx=bb.find('xmax')\n",
    "                            vmaxx=getvalueofnode(xmaxx)\n",
    "                            yminn=bb.find('ymin')\n",
    "                            vminy=getvalueofnode(yminn)\n",
    "                            ymaxx=bb.find('ymax')\n",
    "                            vmaxy=getvalueofnode(ymaxx)\n",
    "                            cropped = im[int(vminy):int(vmaxy), int(vminx):int(vmaxx), :]\n",
    "                            cropped_1= im[int(vminy):int(vmaxy), int(vminx)-15:int(vmaxx)-15, :]\n",
    "                            cropped_2= im[int(vminy):int(vmaxy), int(vminx)+15:int(vmaxx)+15, :]\n",
    "                            cropped_3= im[int(vminy)-15:int(vmaxy)-15, int(vminx):int(vmaxx), :]\n",
    "                            cropped_4= im[int(vminy)+15:int(vmaxy)+15, int(vminx):int(vmaxx), :]\n",
    "                            cropped_5= im[int(vminy)-15:int(vmaxy)+15, int(vminx):int(vmaxx), :]\n",
    "                            cropped_6= im[int(vminy):int(vmaxy), int(vminx)-15:int(vmaxx)+15, :]\n",
    "                            \n",
    "                            class_name = class_name.replace(\" \",\"_\")\n",
    "#                             print(class_name)\n",
    "                            dir_path = os.path.join(target_folder,class_name)\n",
    "                            img_name = name[:-4] + \"_\" + vminx + name[-4:]\n",
    "                            img_name_1 = name[:-4] + \"_1\" + vminx + name[-4:]\n",
    "                            img_name_2= name[:-4] + \"_2\" + vminx + name[-4:]\n",
    "                            img_name_3= name[:-4] + \"_3\" + vminx + name[-4:]\n",
    "                            img_name_4= name[:-4] + \"_4\" + vminx + name[-4:]\n",
    "                            img_name_5= name[:-4] + \"_5\" + vminx + name[-4:]\n",
    "                            img_name_6= name[:-4] + \"_6\" + vminx + name[-4:]\n",
    "                            \n",
    "                            img_path = os.path.join(dir_path,img_name)\n",
    "                            img_path_1= os.path.join(dir_path,img_name_1)\n",
    "                            img_path_2= os.path.join(dir_path,img_name_2)\n",
    "                            img_path_3= os.path.join(dir_path,img_name_3)\n",
    "                            img_path_4= os.path.join(dir_path,img_name_4)\n",
    "                            img_path_5= os.path.join(dir_path,img_name_5)\n",
    "                            img_path_6= os.path.join(dir_path,img_name_6)\n",
    "                            \n",
    "                            \n",
    "                            cv2.imwrite(img_path,cropped)\n",
    "                            cv2.imwrite(img_path_1,cropped_1)\n",
    "                            cv2.imwrite(img_path_2,cropped_2)\n",
    "                            cv2.imwrite(img_path_3,cropped_3)\n",
    "                            cv2.imwrite(img_path_4,cropped_4)\n",
    "                            cv2.imwrite(img_path_5,cropped_5)\n",
    "                            cv2.imwrite(img_path_6,cropped_6)\n",
    "                    break\n",
    "                except:\n",
    "                    pass\n",
    "            else:\n",
    "                continue"
   ]
  },
  {
   "cell_type": "markdown",
   "metadata": {},
   "source": [
    "## Functions to get cropped images and to separate into lower and upper parts"
   ]
  },
  {
   "cell_type": "code",
   "execution_count": 19,
   "metadata": {},
   "outputs": [],
   "source": [
    "def create_folder(path, x):\n",
    "    rel_path = str(x)\n",
    "    my_path = os.path.join(path,rel_path)\n",
    "    if not os.path.isdir(my_path):\n",
    "        os.makedirs(my_path)\n",
    "    return my_path\n",
    "\n",
    "def Copy(current_folder,destination_folder):\n",
    "    files = os.listdir(current_folder)\n",
    "    for file in tqdm(files):\n",
    "        if(file== \".ipynb_checkpoints\"):\n",
    "            continue\n",
    "        if(file== \"kpoints\"):\n",
    "            continue\n",
    "        if(file== \"out\"):\n",
    "            continue\n",
    "        shutil.copy(os.path.join(current_folder,file), destination_folder)\n",
    "        \n",
    "#     shutil.rmtree(current_folder)\n",
    "\n",
    "def crop(path):\n",
    "    img_folder = path + \"/img/\"\n",
    "    xml_folder = path + \"/xml/\"\n",
    "    target_path = create_folder(path, \"cropped\")\n",
    "    XML_crop(xml_folder,img_folder,target_path)\n",
    "    # Location of cropped images\n",
    "    upper_img_folder_1 = target_path + \"/Class_1_Left\"\n",
    "    upper_img_folder_2 = target_path + \"/Class_1_Right\"\n",
    "\n",
    "    lower_img_folder_1 = target_path + \"/Class_2_Left\"\n",
    "    lower_img_folder_2 = target_path + \"/Class_2_Right\"\n",
    "    \n",
    "    #### Location to save final lower $ upper images\n",
    "\n",
    "    output_lower = create_folder(path, \"lower\")\n",
    "    output_upper = create_folder(path, \"upper\")\n",
    "    \n",
    "    ### Copying all defective upper [C1L and C1R] to one folder\n",
    "\n",
    "    Copy(upper_img_folder_1,output_upper)\n",
    "    Copy(upper_img_folder_2,output_upper)\n",
    "\n",
    "    ### Copying all defective lower [C2L and C2R] to one folder\n",
    "\n",
    "    Copy(lower_img_folder_1,output_lower)\n",
    "    Copy(lower_img_folder_2,output_lower)\n",
    "    \n",
    "    ### remove extra folders once copying is done\n",
    "    shutil.rmtree(target_path)\n",
    "            \n",
    "    return (output_lower,output_upper)"
   ]
  },
  {
   "cell_type": "markdown",
   "metadata": {},
   "source": [
    "## Functions to get final lower and upper dataset"
   ]
  },
  {
   "cell_type": "code",
   "execution_count": 20,
   "metadata": {},
   "outputs": [],
   "source": [
    "def create_final_data_folder(path):\n",
    "    defective = path + \"/1/\"\n",
    "    non_defective = path + \"/0/\"\n",
    "    classes = [defective, non_defective]\n",
    "    for c in classes:\n",
    "        dir_path = c\n",
    "        if(os.path.isdir(dir_path)==True):\n",
    "            continue\n",
    "        else:\n",
    "            os.makedirs(dir_path)\n",
    "    return (non_defective, defective)\n",
    "\n",
    "# def get_data(input_path_def, input_path_non_def, output_path_lower, output_path_upper):\n",
    "#     ## create final folders\n",
    "#     non_def_dest_l ,def_dest_l = create_final_data_folder(output_path_lower)\n",
    "#     non_def_dest_u ,def_dest_u = create_final_data_folder(output_path_upper)\n",
    "    \n",
    "#     ## get all lower and upper data\n",
    "#     output_def_lower, output_def_upper = crop(input_path_def)\n",
    "#     output_non_def_lower, output_non_def_upper = crop(input_path_non_def)\n",
    "    \n",
    "#     ## copy lower & upper data in their respective folders\n",
    "#     Copy(output_non_def_lower,non_def_dest_l)\n",
    "#     Copy(output_def_lower,def_dest_l)\n",
    "    \n",
    "#     Copy(output_non_def_upper,non_def_dest_u)\n",
    "#     Copy(output_def_upper,def_dest_u)\n",
    "    \n",
    "#     ## remove extra folders once copying is done..\n",
    "#     classes = [output_def_lower, output_def_upper, output_non_def_lower, output_non_def_upper]\n",
    "#     for c in classes:\n",
    "#         dir_path = c\n",
    "#         shutil.rmtree(dir_path)\n",
    "        \n",
    "        \n",
    "def get_data_upper(input_path_def, input_path_non_def, output_path_upper):\n",
    "    ## create final folder to get upper data\n",
    "    non_def_dest_u ,def_dest_u = create_final_data_folder(output_path_upper)\n",
    "    \n",
    "    ## get all lower and upper data\n",
    "    output_def_lower, output_def_upper = crop(input_path_def)\n",
    "    output_non_def_lower, output_non_def_upper = crop(input_path_non_def)\n",
    "    \n",
    "    ## copy upper data in its respective folders\n",
    "    Copy(output_non_def_upper,non_def_dest_u)\n",
    "    Copy(output_def_upper,def_dest_u)\n",
    "    \n",
    "    ## remove extra folders once copying is done..\n",
    "    classes = [output_def_upper, output_non_def_upper]\n",
    "    for c in classes:\n",
    "        dir_path = c\n",
    "        shutil.rmtree(dir_path)\n",
    "        \n",
    "def get_data_lower(input_path_def, input_path_non_def, output_path_lower):\n",
    "    ## create final folder to get upper data\n",
    "    non_def_dest_l ,def_dest_l = create_final_data_folder(output_path_lower)\n",
    "    \n",
    "    ## get all lower and upper data\n",
    "    output_def_lower, output_def_upper = crop(input_path_def)\n",
    "    output_non_def_lower, output_non_def_upper = crop(input_path_non_def)\n",
    "    \n",
    "    ## copy upper data in its respective folders\n",
    "    Copy(output_non_def_lower,non_def_dest_l)\n",
    "    Copy(output_def_lower,def_dest_l)\n",
    "    \n",
    "    ## remove extra folders once copying is done..\n",
    "    classes = [output_def_lower, output_non_def_lower]\n",
    "    for c in classes:\n",
    "        dir_path = c\n",
    "        shutil.rmtree(dir_path)"
   ]
  },
  {
   "cell_type": "code",
   "execution_count": 21,
   "metadata": {},
   "outputs": [
    {
     "name": "stderr",
     "output_type": "stream",
     "text": [
      "0it [00:00, ?it/s]\n",
      "0it [00:00, ?it/s]\n",
      "0it [00:00, ?it/s]\n",
      "0it [00:00, ?it/s]\n",
      "0it [00:00, ?it/s]\n",
      "0it [00:00, ?it/s]\n",
      "0it [00:00, ?it/s]\n",
      "0it [00:00, ?it/s]\n",
      "0it [00:00, ?it/s]\n",
      "0it [00:00, ?it/s]\n",
      "0it [00:00, ?it/s]\n",
      "0it [00:00, ?it/s]\n"
     ]
    }
   ],
   "source": [
    "get_data_lower(defective_path, non_defective_path, final_output_lower_data)"
   ]
  },
  {
   "cell_type": "code",
   "execution_count": 22,
   "metadata": {},
   "outputs": [
    {
     "name": "stderr",
     "output_type": "stream",
     "text": [
      "0it [00:00, ?it/s]\n",
      "0it [00:00, ?it/s]\n",
      "0it [00:00, ?it/s]\n",
      "0it [00:00, ?it/s]\n",
      "0it [00:00, ?it/s]\n",
      "0it [00:00, ?it/s]\n",
      "0it [00:00, ?it/s]\n",
      "0it [00:00, ?it/s]\n",
      "0it [00:00, ?it/s]\n",
      "0it [00:00, ?it/s]\n",
      "0it [00:00, ?it/s]\n",
      "0it [00:00, ?it/s]\n"
     ]
    }
   ],
   "source": [
    "get_data_upper(defective_path, non_defective_path, final_output_upper_data)"
   ]
  },
  {
   "cell_type": "markdown",
   "metadata": {},
   "source": [
    "## If want to get data split into Train and Test set, the go ahead..."
   ]
  },
  {
   "cell_type": "code",
   "execution_count": 33,
   "metadata": {},
   "outputs": [],
   "source": [
    "# final_lower_data = \"SAMPLE_rr/Lower\"\n",
    "# final_upper_data = \"SAMPLE_rr/Upper\"\n",
    "\n",
    "# def create_Train_Test_folders(path):\n",
    "#     train_def = path + \"/train/1/\"\n",
    "#     test_def = path + \"/test/1/\"\n",
    "#     train_non_def = path + \"/train/0/\"\n",
    "#     test_non_def = path + \"/test/0/\"\n",
    "#     classes = [train_def,test_def,train_non_def,test_non_def]\n",
    "#     for c in classes:\n",
    "#         dir_path = c\n",
    "#         if(os.path.isdir(dir_path)==True):\n",
    "#             continue\n",
    "#         else:\n",
    "#             os.makedirs(dir_path)\n",
    "            \n",
    "#     return (train_def, test_def, train_non_def, test_non_def)"
   ]
  },
  {
   "cell_type": "code",
   "execution_count": 34,
   "metadata": {},
   "outputs": [],
   "source": [
    "# train_def_lower, test_def_lower, train_non_def_lower, test_non_def_lower = create_Train_Test_folders(final_lower_data)\n",
    "# train_def_upper, test_def_upper, train_non_def_upper, test_non_def_upper = create_Train_Test_folders(final_upper_data)"
   ]
  },
  {
   "cell_type": "code",
   "execution_count": 35,
   "metadata": {},
   "outputs": [],
   "source": [
    "# def Diff(A,B):\n",
    "#     return (list(set(A) - set(B)))"
   ]
  },
  {
   "cell_type": "code",
   "execution_count": 36,
   "metadata": {},
   "outputs": [],
   "source": [
    "# ## Split Data into Train and Test set\n",
    "\n",
    "# def train_test_split(input_img,  train_img, test_img):\n",
    "#     files_bmp = os.listdir(input_img)\n",
    "#     train_bmp = random.sample(files_bmp,int(0.75*len(files_bmp)))\n",
    "#     test_bmp = Diff(files_bmp,train_bmp)\n",
    "    \n",
    "#     for file in tqdm(train_bmp):\n",
    "#         if(file== \".ipynb_checkpoints\"):\n",
    "#             continue\n",
    "#         if(file== \"kpoints\"):\n",
    "#             continue\n",
    "#         if(file== \"out\"):\n",
    "#             continue\n",
    "            \n",
    "#         shutil.copy(os.path.join(input_img,file), train_img)\n",
    "        \n",
    "#     for file in tqdm(test_bmp):\n",
    "#         if(file== \".ipynb_checkpoints\"):\n",
    "#             continue\n",
    "#         if(file== \"kpoints\"):\n",
    "#             continue\n",
    "\n",
    "#         shutil.copy(os.path.join(input_img,file), test_img)"
   ]
  },
  {
   "cell_type": "code",
   "execution_count": 65,
   "metadata": {},
   "outputs": [],
   "source": [
    "# train_test_split(output_non_def_lower,train_non_def_lower,test_non_def_lower)\n",
    "# train_test_split(output_def_lower,train_def_lower,test_def_lower)\n",
    "# train_test_split(output_non_def_upper,train_non_def_upper,test_non_def_upper)\n",
    "# train_test_split(output_def_upper,train_def_upper,test_def_upper)"
   ]
  },
  {
   "cell_type": "code",
   "execution_count": 2,
   "metadata": {},
   "outputs": [],
   "source": [
    "lower = \"NEW_DATA/Upper\"\n",
    "upper = \"NEW_DATA/Lower\"\n",
    "classes = [lower, upper]\n",
    "for c in classes:\n",
    "    dir_path = c\n",
    "    shutil.rmtree(dir_path)"
   ]
  },
  {
   "cell_type": "code",
   "execution_count": 11,
   "metadata": {},
   "outputs": [],
   "source": [
    "dir_path = \"gs:\"\n",
    "shutil.rmtree(dir_path)"
   ]
  },
  {
   "cell_type": "code",
   "execution_count": 10,
   "metadata": {},
   "outputs": [
    {
     "name": "stdout",
     "output_type": "stream",
     "text": [
      "Copying file://testing_scripts_training/weights/upper/saved-model-augmented-gpu-100.h5...\n",
      "- [1/1 files][170.6 MiB/170.6 MiB] 100% Done                                    \n",
      "Operation completed over 1 objects/170.6 MiB.                                    \n"
     ]
    }
   ],
   "source": [
    "!gsutil -m cp -r \"testing_scripts_training/weights/upper/saved-model-augmented-gpu-100.h5\" \"old_data/old_upper/old_trained_model\""
   ]
  },
  {
   "cell_type": "code",
   "execution_count": null,
   "metadata": {},
   "outputs": [],
   "source": [
    "# !gsutil -m cp -r \"datagenerator_new/lower/od_train_test/validation\" \"old_data/old_lower\""
   ]
  },
  {
   "cell_type": "code",
   "execution_count": null,
   "metadata": {},
   "outputs": [],
   "source": []
  }
 ],
 "metadata": {
  "kernelspec": {
   "display_name": "Python 3",
   "language": "python",
   "name": "python3"
  },
  "language_info": {
   "codemirror_mode": {
    "name": "ipython",
    "version": 3
   },
   "file_extension": ".py",
   "mimetype": "text/x-python",
   "name": "python",
   "nbconvert_exporter": "python",
   "pygments_lexer": "ipython3",
   "version": "3.5.2"
  }
 },
 "nbformat": 4,
 "nbformat_minor": 4
}
